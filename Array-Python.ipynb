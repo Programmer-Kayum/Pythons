{
 "cells": [
  {
   "cell_type": "code",
   "execution_count": null,
   "id": "67373dc4-bae8-46f3-a16d-ffc2c09b46b7",
   "metadata": {},
   "outputs": [],
   "source": [
    "#                                               [ARRAY]"
   ]
  },
  {
   "cell_type": "code",
   "execution_count": null,
   "id": "3d4268d4-b70f-46ca-8918-b9bbd90a7a00",
   "metadata": {},
   "outputs": [],
   "source": [
    "#  Numpy package\n",
    "#  numpy= Numerical python- Sokol calculation r kaj kora hoy eta diye\n",
    "#  array akare kaj kore ."
   ]
  },
  {
   "cell_type": "code",
   "execution_count": null,
   "id": "d9edae2c-7822-4e3f-b244-9abebf7c750c",
   "metadata": {},
   "outputs": [],
   "source": [
    "# import  = pre install kora thakbe sudu import korte hobe\n",
    "# install = install kore nite hobe"
   ]
  },
  {
   "cell_type": "code",
   "execution_count": null,
   "id": "a75fe95e-ed83-482c-8da7-8e665aab4c81",
   "metadata": {},
   "outputs": [],
   "source": [
    "# import numpy as np"
   ]
  },
  {
   "cell_type": "code",
   "execution_count": null,
   "id": "a103dfed-71f4-45ad-b3d2-0aa312454a81",
   "metadata": {},
   "outputs": [],
   "source": [
    "#                        -----------------------1D array using numpy----------------------------"
   ]
  },
  {
   "cell_type": "code",
   "execution_count": null,
   "id": "f5c3fbbd-b5be-4ff9-8411-5a4dcd08c57c",
   "metadata": {},
   "outputs": [],
   "source": [
    "#    There are 4 way use to create 1D array"
   ]
  },
  {
   "cell_type": "code",
   "execution_count": null,
   "id": "8740f337-5394-4b1c-a510-9ae7103ddb45",
   "metadata": {},
   "outputs": [],
   "source": [
    "#                                              Way-----(1)"
   ]
  },
  {
   "cell_type": "code",
   "execution_count": 1,
   "id": "e7ba4e70-3e3e-47c0-be91-264ca1f65cd7",
   "metadata": {},
   "outputs": [
    {
     "name": "stdout",
     "output_type": "stream",
     "text": [
      "[2 4 6 8]\n"
     ]
    }
   ],
   "source": [
    "                     import numpy as np\n",
    "                     a= np.array([2,4,6,8])\n",
    "                     print (a)"
   ]
  },
  {
   "cell_type": "code",
   "execution_count": 3,
   "id": "10cd8c16-682c-4a75-a645-6f53c98b0cf2",
   "metadata": {},
   "outputs": [
    {
     "name": "stdout",
     "output_type": "stream",
     "text": [
      "[2.   4.   6.5  8.99]\n"
     ]
    }
   ],
   "source": [
    "                     import numpy as np\n",
    "                     b= np.array([2,4,6.5,8.99])\n",
    "                     print (b)"
   ]
  },
  {
   "cell_type": "code",
   "execution_count": null,
   "id": "325d5f14-d898-42ae-a83d-f6c0972be12a",
   "metadata": {},
   "outputs": [],
   "source": [
    "#                                              Way----(2) linspace (Start, stop,n)"
   ]
  },
  {
   "cell_type": "code",
   "execution_count": 19,
   "id": "6ca5e080-a2a6-4ba8-9178-efb4231f85d0",
   "metadata": {},
   "outputs": [
    {
     "name": "stdout",
     "output_type": "stream",
     "text": [
      "(array([2. , 2.4, 2.8, 3.2, 3.6, 4. ]), 0.4)\n"
     ]
    }
   ],
   "source": [
    "                     import numpy as np\n",
    "                     L= np.linspace(2,4,6,8,10)\n",
    "                     print (L)"
   ]
  },
  {
   "cell_type": "code",
   "execution_count": null,
   "id": "d89d93c7-ba68-4042-8c86-79a415010faf",
   "metadata": {},
   "outputs": [],
   "source": [
    "#                                                   Way-----(3) arange (Start, stop,stepsize)"
   ]
  },
  {
   "cell_type": "code",
   "execution_count": 25,
   "id": "5e486a81-f2a4-48d3-ad01-14559ad45fc7",
   "metadata": {},
   "outputs": [
    {
     "name": "stdout",
     "output_type": "stream",
     "text": [
      "[0 1 2 3 4 5 6 7 8 9]\n"
     ]
    }
   ],
   "source": [
    "                     import numpy as np\n",
    "                     A = np.arange(10)\n",
    "                     print (A)"
   ]
  },
  {
   "cell_type": "code",
   "execution_count": 27,
   "id": "6c0f223c-fece-43c0-b9b5-8afaae569445",
   "metadata": {},
   "outputs": [
    {
     "name": "stdout",
     "output_type": "stream",
     "text": [
      "[ 0  1  2  3  4  5  6  7  8  9 10 11 12 13 14 15 16 17 18 19 20 21 22 23\n",
      " 24 25 26 27 28 29 30 31 32 33 34 35 36 37 38 39 40 41 42 43 44 45 46 47\n",
      " 48 49 50 51 52 53 54 55 56 57 58 59 60 61 62 63 64 65 66 67 68 69 70 71\n",
      " 72 73 74 75 76 77 78 79 80 81 82 83 84 85 86 87 88 89 90 91 92 93 94 95\n",
      " 96 97 98 99]\n"
     ]
    }
   ],
   "source": [
    "                     import numpy as np\n",
    "                     A = np.arange(100)\n",
    "                     print (A)"
   ]
  },
  {
   "cell_type": "code",
   "execution_count": null,
   "id": "f3cbe140-aa4f-4b1d-b2b0-088a50baabdc",
   "metadata": {},
   "outputs": [],
   "source": [
    "#                                               Way----(4) ones(), zeros()"
   ]
  },
  {
   "cell_type": "code",
   "execution_count": 29,
   "id": "2b9bc6c6-741c-40e5-8f68-c42de93fa2c1",
   "metadata": {},
   "outputs": [
    {
     "name": "stdout",
     "output_type": "stream",
     "text": [
      "[0. 0. 0. 0. 0.]\n"
     ]
    }
   ],
   "source": [
    "                    import numpy as np\n",
    "                    K = np.zeros(5)\n",
    "                    print (K)"
   ]
  },
  {
   "cell_type": "code",
   "execution_count": 31,
   "id": "ec39e778-3290-4e5d-9e86-9d0dbf947f5b",
   "metadata": {},
   "outputs": [
    {
     "name": "stdout",
     "output_type": "stream",
     "text": [
      "[1. 1. 1. 1. 1.]\n"
     ]
    }
   ],
   "source": [
    "                    import numpy as np\n",
    "                    K = np.ones(5)\n",
    "                    print(K)"
   ]
  },
  {
   "cell_type": "code",
   "execution_count": null,
   "id": "41a5a144-c3b1-402f-912a-5183d1290ff5",
   "metadata": {},
   "outputs": [],
   "source": [
    "#                                           Mathematical operation an array"
   ]
  },
  {
   "cell_type": "code",
   "execution_count": 60,
   "id": "07547347-75f2-4d1b-99ab-59a95ea931e0",
   "metadata": {},
   "outputs": [
    {
     "name": "stdout",
     "output_type": "stream",
     "text": [
      "[1 2 3 4 5]\n"
     ]
    },
    {
     "data": {
      "text/plain": [
       "array([0.2, 0.4, 0.6, 0.8, 1. ])"
      ]
     },
     "execution_count": 60,
     "metadata": {},
     "output_type": "execute_result"
    }
   ],
   "source": [
    "import numpy as np\n",
    "k= np.array([1,2,3,4,5])\n",
    "print (k)\n",
    "k+5\n",
    "k-5\n",
    "k*5\n",
    "k/5"
   ]
  },
  {
   "cell_type": "code",
   "execution_count": null,
   "id": "adf41d1b-3044-4093-b2e9-4240fcc47c9b",
   "metadata": {},
   "outputs": [],
   "source": [
    "#                         -----------------------2D array using numpy----------------------------"
   ]
  },
  {
   "cell_type": "code",
   "execution_count": 66,
   "id": "4855eaa6-ef74-4a1b-a67d-7401ec47d14a",
   "metadata": {},
   "outputs": [
    {
     "name": "stdout",
     "output_type": "stream",
     "text": [
      "[[ 2  4  6  8]\n",
      " [10 12 14 16]]\n"
     ]
    }
   ],
   "source": [
    "import numpy as np\n",
    "x= np.array([[2,4,6,8],[10,12,14,16]])\n",
    "print (x)"
   ]
  },
  {
   "cell_type": "code",
   "execution_count": 62,
   "id": "ee5a9cdd-0669-4cee-a946-c13194d25ff1",
   "metadata": {},
   "outputs": [],
   "source": [
    "#                         -----------------------2D array using numpy----------------------------"
   ]
  },
  {
   "cell_type": "code",
   "execution_count": null,
   "id": "8b93192e-5adf-4c30-86ef-8892dbacc790",
   "metadata": {},
   "outputs": [],
   "source": [
    "#                              ndim attibute (Show number of array)"
   ]
  },
  {
   "cell_type": "code",
   "execution_count": 78,
   "id": "95dafa9b-80aa-46d5-b6d9-d325dc0c17aa",
   "metadata": {},
   "outputs": [
    {
     "name": "stdout",
     "output_type": "stream",
     "text": [
      "2\n",
      "2\n"
     ]
    }
   ],
   "source": [
    "import numpy as np\n",
    "x= np.array([[2,4,6,8],[10,12,14,16]])\n",
    "y= np.array([[2,4,6,8],[10,12,14,16],[2,3,2,2]])\n",
    "print (x.ndim)\n",
    "print (y.ndim)"
   ]
  },
  {
   "cell_type": "code",
   "execution_count": null,
   "id": "13f8677e-75a4-48fe-894d-7f4e781ba79c",
   "metadata": {},
   "outputs": [],
   "source": [
    "# Shape attribute"
   ]
  },
  {
   "cell_type": "code",
   "execution_count": 82,
   "id": "563cb2cc-6019-47b9-ad54-c4f315c7fe52",
   "metadata": {},
   "outputs": [
    {
     "name": "stdout",
     "output_type": "stream",
     "text": [
      "(2, 4)\n",
      "(3, 4)\n"
     ]
    }
   ],
   "source": [
    "import numpy as np\n",
    "x= np.array([[2,4,6,8],[10,12,14,16]])\n",
    "y= np.array([[2,4,6,8],[10,12,14,16],[2,3,2,2]])\n",
    "print (x.shape)\n",
    "print (y.shape)"
   ]
  },
  {
   "cell_type": "code",
   "execution_count": null,
   "id": "cb9054e3-289d-40a6-91ab-a79e100f0b5c",
   "metadata": {},
   "outputs": [],
   "source": []
  },
  {
   "cell_type": "code",
   "execution_count": null,
   "id": "dfae708e-f7e3-48be-8012-5695b12a0e28",
   "metadata": {},
   "outputs": [],
   "source": [
    "# size attribute"
   ]
  },
  {
   "cell_type": "code",
   "execution_count": 84,
   "id": "cad0e684-19a2-4de0-bc66-b8cc6f2a7cc0",
   "metadata": {},
   "outputs": [
    {
     "name": "stdout",
     "output_type": "stream",
     "text": [
      "8\n",
      "12\n"
     ]
    }
   ],
   "source": [
    "import numpy as np\n",
    "x= np.array([[2,4,6,8],[10,12,14,16]])\n",
    "y= np.array([[2,4,6,8],[10,12,14,16],[2,3,2,2]])\n",
    "print (x.size)\n",
    "print (y.size)"
   ]
  },
  {
   "cell_type": "code",
   "execution_count": null,
   "id": "acc6d412-b71b-4027-936a-9191704ea22b",
   "metadata": {},
   "outputs": [],
   "source": [
    "# reshape attribute"
   ]
  },
  {
   "cell_type": "code",
   "execution_count": 88,
   "id": "b1c63a85-b907-4bd6-86dc-0af5b73ebbb3",
   "metadata": {},
   "outputs": [
    {
     "name": "stdout",
     "output_type": "stream",
     "text": [
      "[[ 2  4]\n",
      " [ 6  8]\n",
      " [10 12]\n",
      " [14 16]\n",
      " [ 2  3]\n",
      " [ 2  2]]\n"
     ]
    }
   ],
   "source": [
    "import numpy as np\n",
    "y= np.array([[2,4,6,8],[10,12,14,16],[2,3,2,2]])\n",
    "z= y.reshape(6,2)\n",
    "print (z)"
   ]
  },
  {
   "cell_type": "code",
   "execution_count": null,
   "id": "17ead4ba-2ab7-4e6d-b6c1-c908763602f0",
   "metadata": {},
   "outputs": [],
   "source": [
    "# concatenate (join more then one array)"
   ]
  },
  {
   "cell_type": "code",
   "execution_count": 94,
   "id": "38f94652-68f8-4719-b66c-0f164922b741",
   "metadata": {},
   "outputs": [
    {
     "name": "stdout",
     "output_type": "stream",
     "text": [
      "[[ 2  4  6  8]\n",
      " [10 12 14 16]\n",
      " [ 2  4  6  8]\n",
      " [10 12 14 16]]\n"
     ]
    }
   ],
   "source": [
    "import numpy as np\n",
    "x= np.array([[2,4,6,8],[10,12,14,16]])\n",
    "y= np.array([[2,4,6,8],[10,12,14,16]])\n",
    "z= np.concatenate([x,y])\n",
    "print(z)\n"
   ]
  },
  {
   "cell_type": "code",
   "execution_count": null,
   "id": "1a10cbd3-4d77-49ff-92b3-5a18ff7da598",
   "metadata": {},
   "outputs": [],
   "source": [
    "# hstack attribute (joint horizontally)"
   ]
  }
 ],
 "metadata": {
  "kernelspec": {
   "display_name": "Python 3 (ipykernel)",
   "language": "python",
   "name": "python3"
  },
  "language_info": {
   "codemirror_mode": {
    "name": "ipython",
    "version": 3
   },
   "file_extension": ".py",
   "mimetype": "text/x-python",
   "name": "python",
   "nbconvert_exporter": "python",
   "pygments_lexer": "ipython3",
   "version": "3.12.4"
  }
 },
 "nbformat": 4,
 "nbformat_minor": 5
}
